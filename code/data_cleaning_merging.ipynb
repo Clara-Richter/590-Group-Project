{
  "cells": [
    {
      "cell_type": "markdown",
      "metadata": {
        "id": "JH-mKdKYMCPA"
      },
      "source": [
        "# Load Data"
      ]
    },
    {
      "cell_type": "code",
      "execution_count": 231,
      "metadata": {
        "colab": {
          "base_uri": "https://localhost:8080/"
        },
        "id": "cp29yqktnmfC",
        "outputId": "3e45b604-374e-4819-cd9b-21038d4a2462"
      },
      "outputs": [
        {
          "name": "stdout",
          "output_type": "stream",
          "text": [
            "Drive already mounted at /content/drive; to attempt to forcibly remount, call drive.mount(\"/content/drive\", force_remount=True).\n"
          ]
        }
      ],
      "source": [
        "#pip install wordninja\n",
        "\n",
        "import pandas as pd\n",
        "import numpy as np\n",
        "import wordninja\n",
        "\n",
        "from google.colab import drive\n",
        "drive.mount('/content/drive')"
      ]
    },
    {
      "cell_type": "code",
      "execution_count": 232,
      "metadata": {
        "id": "ovcJfI-roW0Z"
      },
      "outputs": [],
      "source": [
        "# Specify the path to our shared drive. Should work for all of us.\n",
        "path = '/content/drive/Shareddrives/ANLY590_GROUP_4_PROJECT'"
      ]
    },
    {
      "cell_type": "code",
      "execution_count": 233,
      "metadata": {
        "id": "cq6n334_q-LY"
      },
      "outputs": [],
      "source": [
        "col_names_complete = ['track_id','race_date','race_number','program_number','trakus_index','latitude',\n",
        "                      'longitude','distance_id','course_type','track_condition','run_up_distance','race_type',\n",
        "                      'post_time','weight_carried','jockey','odds','position_at_finish']\n",
        "\n",
        "col_names_start = ['track_id','race_date','race_number','program_number','weight_carried','jockey','odds','position_at_finish']"
      ]
    },
    {
      "cell_type": "code",
      "execution_count": 234,
      "metadata": {
        "id": "vBioX8kXogPf"
      },
      "outputs": [],
      "source": [
        "# Load the datasets.\n",
        "complete = pd.read_csv(path + '/data/raw/nyra_2019_complete_raw.csv', names = col_names_complete, index_col=False)\n",
        "\n",
        "start = pd.read_csv(path + '/data/raw/nyra_start_table_raw.csv', names = col_names_start, index_col=False)\n",
        "\n",
        "race = pd.read_csv(path + '/data/raw/nyra_race_table_raw.csv', index_col=False)\n",
        "\n",
        "tracking = pd.read_csv(path + '/data/raw/nyra_tracking_table_raw.csv', index_col=False)\n",
        "\n",
        "pdf = pd.read_csv(path + '/data/raw/historical_results.csv', index_col=False)\n",
        "\n",
        "aqu = pd.read_csv(path + '/data/raw/weather_data/aqu.csv')\n",
        "\n",
        "bel = pd.read_csv(path + '/data/raw/weather_data/bel.csv')\n",
        "\n",
        "sar = pd.read_csv(path + '/data/raw/weather_data/sar.csv')"
      ]
    },
    {
      "cell_type": "markdown",
      "metadata": {
        "id": "9s6JJw-cMKwv"
      },
      "source": [
        "# Codebook"
      ]
    },
    {
      "cell_type": "markdown",
      "metadata": {
        "id": "5xVyBpVn7Wzg"
      },
      "source": [
        "#### nyra_start_table.csv\n",
        "\n",
        "- track_id - 3 character id for the track the race took place at. AQU -Aqueduct, BEL - Belmont, SAR - Saratoga.\n",
        "- race_date - date the race took place. YYYY-MM-DD.\n",
        "- race_number - Number of the race. Passed as 3 characters but can be cast or converted to int for this data set.\n",
        "- program_number - Program number of the horse in the race passed as 3 characters. Should remain 3 characters as it isn't limited to just numbers. Is essentially the unique identifier of the horse in the race.\n",
        "- weight_carried - An integer of the weight carried by the horse in the race.\n",
        "- jockey - Name of the jockey on the horse in the race. 50 character max.\n",
        "- odds - Odds to win the race passed as an integer. Divide by 100 to derive the odds to 1. Example - 1280 would be 12.8-1.\n",
        "- position_at_finish - An integer of the horse's finishing position. (added to the dataset 9/8/22)\n",
        "\n"
      ]
    },
    {
      "cell_type": "markdown",
      "metadata": {
        "id": "Ff_a0aBeNCy7"
      },
      "source": [
        "#### nyra_race_table.csv\n",
        "\n",
        "- track_id - 3 character id for the track the race took place at. AQU -Aqueduct, BEL - Belmont, SAR - Saratoga.\n",
        "- race_date - date the race took place. YYYY-MM-DD.\n",
        "- race_number - Number of the race. Passed as 3 characters but can be cast or converted to int for this data set.\n",
        "- distance_id - Distance of the race in furlongs passed as an integer. Example - 600 would be 6 furlongs.\n",
        "- course_type - The course the race was run over passed as one character. M - Hurdle, D - Dirt, O - Outer turf, I - Inner turf, T - turf.\n",
        "- track_condition - The condition of the course the race was run on passed as three characters. YL - Yielding, FM - Firm, SY - Sloppy, GD - Good, FT - Fast, MY - Muddy, SF - Soft.\n",
        "- run_up_distance - Distance in feet of the gate to the start of the race passed as an integer.\n",
        "- race_type - The classification of the race passed as as five characters. STK - Stakes, WCL - Waiver Claiming, WMC - Waiver Maiden Claiming, SST - Starter Stakes, SHP - Starter Handicap, CLM - Claiming, STR - Starter Allowance, AOC - Allowance Optionl Claimer, SOC - Starter Optional Claimer, MCL - Maiden Claiming, ALW - Allowance, MSW - Maiden Special Weight.\n",
        "- purse - Purse in US dollars of the race passed as an money with two decimal places.\n",
        "- post_time - Time of day the race began passed as 5 character. Example - 01220 would be 12:20.\n",
        "\n"
      ]
    },
    {
      "cell_type": "markdown",
      "metadata": {
        "id": "qkP5-uGuNEbQ"
      },
      "source": [
        "#### nyra_tracking_table.csv\n",
        "\n",
        "- track_id - 3 character id for the track the race took place at. AQU -Aqueduct, BEL - Belmont, SAR - Saratoga.\n",
        "- race_date - date the race took place. YYYY-MM-DD.\n",
        "- race_number - Number of the race. Passed as 3 characters but can be cast or converted to int for this data set.\n",
        "- program_number - Program number of the horse in the race passed as 3 characters. Should remain 3 characters as it isn't limited to just numbers. Is essentially the unique identifier of the horse in the race.\n",
        "- trakus_index - The common collection of point of the lat / long of the horse in the race passed as an integer. From what we can tell, it's collected every 0.25 seconds.\n",
        "- latitude - The latitude of the horse in the race passed as a float.\n",
        "- longitude - The longitude of the horse in the race passed as a float.\n",
        "\n"
      ]
    },
    {
      "cell_type": "markdown",
      "metadata": {
        "id": "7n-G8t45NGGe"
      },
      "source": [
        "#### nyra_2019_complete.csv \n",
        "This file is the combined 3 files into one table. The keys to join them trakus with race - track_id, race_date, race_number. To join trakus with start - track_id, race_date, race_number, program_number.\n",
        "\n",
        "- track_id - char(3)\n",
        "- race_date - date\n",
        "- race_number - char(3)\n",
        "- program_number - char(3)\n",
        "- trakus_index - int\n",
        "- latitude - float\n",
        "- longitude - float\n",
        "- distance_id - int\n",
        "- course_type - char(1)\n",
        "- track_condition - char(3)\n",
        "- run_up_distance - int\n",
        "- race_type - char(5)\n",
        "- post_time - char(5)\n",
        "- weight_carried - int\n",
        "- jockey - char(50)\n",
        "- odds - int\n",
        "- position_at_finish - An integer of the horse's finishing position. (added to the dataset 9/8/22)"
      ]
    },
    {
      "cell_type": "code",
      "execution_count": 235,
      "metadata": {
        "colab": {
          "base_uri": "https://localhost:8080/"
        },
        "id": "VnPVAKJso03g",
        "outputId": "877b3bcf-0eb7-497a-c5d1-4bc9238e2212"
      },
      "outputs": [
        {
          "name": "stdout",
          "output_type": "stream",
          "text": [
            "<class 'pandas.core.frame.DataFrame'>\n",
            "RangeIndex: 5228430 entries, 0 to 5228429\n",
            "Data columns (total 17 columns):\n",
            " #   Column              Dtype  \n",
            "---  ------              -----  \n",
            " 0   track_id            object \n",
            " 1   race_date           object \n",
            " 2   race_number         int64  \n",
            " 3   program_number      object \n",
            " 4   trakus_index        int64  \n",
            " 5   latitude            float64\n",
            " 6   longitude           float64\n",
            " 7   distance_id         int64  \n",
            " 8   course_type         object \n",
            " 9   track_condition     object \n",
            " 10  run_up_distance     int64  \n",
            " 11  race_type           object \n",
            " 12  post_time           float64\n",
            " 13  weight_carried      int64  \n",
            " 14  jockey              int64  \n",
            " 15  odds                object \n",
            " 16  position_at_finish  int64  \n",
            "dtypes: float64(3), int64(7), object(7)\n",
            "memory usage: 678.1+ MB\n"
          ]
        }
      ],
      "source": [
        "complete.info()"
      ]
    },
    {
      "cell_type": "code",
      "execution_count": 236,
      "metadata": {
        "colab": {
          "base_uri": "https://localhost:8080/"
        },
        "id": "5KfBcd25o2yr",
        "outputId": "bd51a0ee-2cfc-41ff-f350-d8e9486e8dda"
      },
      "outputs": [
        {
          "name": "stdout",
          "output_type": "stream",
          "text": [
            "<class 'pandas.core.frame.DataFrame'>\n",
            "RangeIndex: 14915 entries, 0 to 14914\n",
            "Data columns (total 8 columns):\n",
            " #   Column              Non-Null Count  Dtype \n",
            "---  ------              --------------  ----- \n",
            " 0   track_id            14915 non-null  object\n",
            " 1   race_date           14915 non-null  object\n",
            " 2   race_number         14915 non-null  int64 \n",
            " 3   program_number      14915 non-null  object\n",
            " 4   weight_carried      14915 non-null  int64 \n",
            " 5   jockey              14915 non-null  object\n",
            " 6   odds                14915 non-null  int64 \n",
            " 7   position_at_finish  14915 non-null  int64 \n",
            "dtypes: int64(4), object(4)\n",
            "memory usage: 932.3+ KB\n"
          ]
        }
      ],
      "source": [
        "start.info()"
      ]
    },
    {
      "cell_type": "code",
      "execution_count": 237,
      "metadata": {
        "colab": {
          "base_uri": "https://localhost:8080/"
        },
        "id": "me80C4MF8Zc5",
        "outputId": "e6ab6433-2a88-4d3a-a360-131aab230278"
      },
      "outputs": [
        {
          "name": "stdout",
          "output_type": "stream",
          "text": [
            "<class 'pandas.core.frame.DataFrame'>\n",
            "RangeIndex: 2000 entries, 0 to 1999\n",
            "Data columns (total 10 columns):\n",
            " #   Column           Non-Null Count  Dtype \n",
            "---  ------           --------------  ----- \n",
            " 0   track_id         2000 non-null   object\n",
            " 1   race_date        2000 non-null   object\n",
            " 2   race_number      2000 non-null   int64 \n",
            " 3   distance_id      2000 non-null   int64 \n",
            " 4   course_type      2000 non-null   object\n",
            " 5   track_condition  2000 non-null   object\n",
            " 6   run_up_distance  2000 non-null   int64 \n",
            " 7   race_type        2000 non-null   object\n",
            " 8   purse            2000 non-null   int64 \n",
            " 9   post_time        2000 non-null   int64 \n",
            "dtypes: int64(5), object(5)\n",
            "memory usage: 156.4+ KB\n"
          ]
        }
      ],
      "source": [
        "race.info()"
      ]
    },
    {
      "cell_type": "code",
      "execution_count": 238,
      "metadata": {
        "colab": {
          "base_uri": "https://localhost:8080/"
        },
        "id": "ORD5IsID8Zpw",
        "outputId": "c18f55b0-c89a-465a-b9f2-54c20f6dfcae"
      },
      "outputs": [
        {
          "name": "stdout",
          "output_type": "stream",
          "text": [
            "<class 'pandas.core.frame.DataFrame'>\n",
            "RangeIndex: 5228430 entries, 0 to 5228429\n",
            "Data columns (total 7 columns):\n",
            " #   Column          Dtype  \n",
            "---  ------          -----  \n",
            " 0   track_id        object \n",
            " 1   race_date       object \n",
            " 2   race_number     int64  \n",
            " 3   program_number  object \n",
            " 4   trakus_index    int64  \n",
            " 5   latitude        float64\n",
            " 6   longitude       float64\n",
            "dtypes: float64(2), int64(2), object(3)\n",
            "memory usage: 279.2+ MB\n"
          ]
        }
      ],
      "source": [
        "tracking.info()"
      ]
    },
    {
      "cell_type": "code",
      "execution_count": 239,
      "metadata": {
        "colab": {
          "base_uri": "https://localhost:8080/"
        },
        "id": "wBztlzT-xZr-",
        "outputId": "71c7742d-fa0d-4f6a-f0b6-646ba6c012b5"
      },
      "outputs": [
        {
          "name": "stdout",
          "output_type": "stream",
          "text": [
            "<class 'pandas.core.frame.DataFrame'>\n",
            "RangeIndex: 14354 entries, 0 to 14353\n",
            "Data columns (total 17 columns):\n",
            " #   Column             Non-Null Count  Dtype \n",
            "---  ------             --------------  ----- \n",
            " 0   Track              14354 non-null  object\n",
            " 1   Date               14354 non-null  object\n",
            " 2   Race               14354 non-null  int64 \n",
            " 3   LastRaced          14354 non-null  object\n",
            " 4   Pgm                14354 non-null  object\n",
            " 5   HorseName(Jockey)  14354 non-null  object\n",
            " 6   Wgt                14354 non-null  object\n",
            " 7   M/E                14354 non-null  object\n",
            " 8   PP                 14354 non-null  int64 \n",
            " 9   Start              14354 non-null  object\n",
            " 10  0.25               14354 non-null  object\n",
            " 11  0.5                14354 non-null  object\n",
            " 12  0.75               14354 non-null  object\n",
            " 13  Str                14354 non-null  object\n",
            " 14  Fin                14354 non-null  object\n",
            " 15  Odds               14354 non-null  object\n",
            " 16  Comments           14354 non-null  object\n",
            "dtypes: int64(2), object(15)\n",
            "memory usage: 1.9+ MB\n"
          ]
        }
      ],
      "source": [
        "pdf.info()"
      ]
    },
    {
      "cell_type": "markdown",
      "metadata": {
        "id": "K4AG2FzQNOVg"
      },
      "source": [
        "# Merging"
      ]
    },
    {
      "cell_type": "markdown",
      "metadata": {
        "id": "MpUyMG5JQXAN"
      },
      "source": [
        "### Our questions:\n",
        "\n",
        "(1) Can we accurately predict a horse’s finish position and what factors are most influential in determining this? \n",
        "\n",
        "(2) What factors are most deterministic in predicting the odds of a horse to win a race? \n",
        "\n",
        "(3) What factors are most influential in predicting the amount of money put into a race? \n",
        "\n",
        "(4) What factors determine the amount of time it takes a horse to finish a race? \n",
        "\n",
        "(5) Does the track type, course type, race type, or track condition play a role in determining horse performance or health? \n",
        "\n",
        "(6) What role does the geography and position of the horse in a race play in its outcome? \n"
      ]
    },
    {
      "cell_type": "markdown",
      "metadata": {
        "id": "e5yHeec0NmIP"
      },
      "source": [
        "Since the complete dataframe was created by merging all three datasets including the real-time position (traking) dataframe, I don't think we need to use this complete dataframe. I think the merged start and race should be enough for answering the first five question. We can use the tracking df to approach the last question. "
      ]
    },
    {
      "cell_type": "code",
      "execution_count": 240,
      "metadata": {
        "id": "D898roQoK0pQ"
      },
      "outputs": [],
      "source": [
        "# Change the type for some columns.\n",
        "race['distance_id'] = race['distance_id'].astype('int64')\n",
        "race['run_up_distance'] = race['run_up_distance'].astype('int64')\n",
        "race['purse'] = race['purse'].astype('int64')\n",
        "start['program_number'] = start['program_number'].apply(lambda x : x.replace(\" \", \"\"))"
      ]
    },
    {
      "cell_type": "code",
      "execution_count": 241,
      "metadata": {
        "id": "_vfUwrU3WhUZ"
      },
      "outputs": [],
      "source": [
        "# Locate the right place to separate the column.\n",
        "def find_numeric(string):\n",
        "  place = False\n",
        "  for i in range(0, len(string)):\n",
        "    if not string[i].isalpha():\n",
        "      continue\n",
        "    else:\n",
        "      return i + 5"
      ]
    },
    {
      "cell_type": "code",
      "execution_count": 242,
      "metadata": {
        "id": "02mAYspb0mo4"
      },
      "outputs": [],
      "source": [
        "# Clening up the scraped pdf csv.\n",
        "pdf['LastRaced'] = pdf['LastRaced'].replace('---', np.nan, regex=True)\n",
        "pdf['Track'] = pdf['Track'].apply(lambda x : x[0:3])\n",
        "pdf['last_race_track'] = pdf['LastRaced'].apply(lambda x : x[-4:-1] if x is not np.nan else np.nan)\n",
        "pdf['last_race_date'] = pd.to_datetime(pdf['LastRaced'].apply(lambda x : x[0 : find_numeric(x)] if x is not np.nan else np.nan), \n",
        "                                       format=\"%d%b%y\", \n",
        "                                       errors='coerce')\n",
        "pdf['Date'] = pd.to_datetime(pdf['Date'], format=\"%B%d,%Y\")\n",
        "pdf['day_since_last_race'] = pdf['Date'] - pdf['last_race_date']"
      ]
    },
    {
      "cell_type": "markdown",
      "metadata": {
        "id": "yodTnj_IU8a5"
      },
      "source": [
        "Here I added two 'last race' column. One depicts the location of last race of this horse. The other one is added by calculating the days between the current race and last race. "
      ]
    },
    {
      "cell_type": "code",
      "execution_count": 243,
      "metadata": {
        "id": "UENoFeOk67kH"
      },
      "outputs": [],
      "source": [
        "# Subset and rename,\n",
        "historical_results = pdf[['Track','Date','Race','Pgm','last_race_track','day_since_last_race','Comments']].rename(\n",
        "    columns = {'Track':'track_id',\t'Date':'race_date',\t'Race':'race_number',\t'Pgm':'program_number'})\n",
        "historical_results.race_date = historical_results.race_date.astype('str')"
      ]
    },
    {
      "cell_type": "code",
      "execution_count": 244,
      "metadata": {
        "id": "OjYU7uRbDIr_"
      },
      "outputs": [],
      "source": [
        "# Merge the dfs.\n",
        "start_race = start.merge(\n",
        "    race, how = 'left', on=['track_id','race_date','race_number']).merge(\n",
        "        historical_results, how = 'left', on=['track_id','race_date','race_number','program_number'])"
      ]
    },
    {
      "cell_type": "code",
      "execution_count": 245,
      "metadata": {
        "colab": {
          "base_uri": "https://localhost:8080/"
        },
        "id": "rS_DvL_QDKMr",
        "outputId": "8e69cbe5-147a-48e4-c7f6-32ef2e54cc16"
      },
      "outputs": [
        {
          "name": "stdout",
          "output_type": "stream",
          "text": [
            "<class 'pandas.core.frame.DataFrame'>\n",
            "Int64Index: 14915 entries, 0 to 14914\n",
            "Data columns (total 18 columns):\n",
            " #   Column               Non-Null Count  Dtype          \n",
            "---  ------               --------------  -----          \n",
            " 0   track_id             14915 non-null  object         \n",
            " 1   race_date            14915 non-null  object         \n",
            " 2   race_number          14915 non-null  int64          \n",
            " 3   program_number       14915 non-null  object         \n",
            " 4   weight_carried       14915 non-null  int64          \n",
            " 5   jockey               14915 non-null  object         \n",
            " 6   odds                 14915 non-null  int64          \n",
            " 7   position_at_finish   14915 non-null  int64          \n",
            " 8   distance_id          14915 non-null  int64          \n",
            " 9   course_type          14915 non-null  object         \n",
            " 10  track_condition      14915 non-null  object         \n",
            " 11  run_up_distance      14915 non-null  int64          \n",
            " 12  race_type            14915 non-null  object         \n",
            " 13  purse                14915 non-null  int64          \n",
            " 14  post_time            14915 non-null  int64          \n",
            " 15  last_race_track      12947 non-null  object         \n",
            " 16  day_since_last_race  12947 non-null  timedelta64[ns]\n",
            " 17  Comments             14354 non-null  object         \n",
            "dtypes: int64(8), object(9), timedelta64[ns](1)\n",
            "memory usage: 2.2+ MB\n"
          ]
        }
      ],
      "source": [
        "start_race.info()"
      ]
    },
    {
      "cell_type": "markdown",
      "metadata": {
        "id": "S2Q0BnaSSNXS"
      },
      "source": [
        "The RNN model can only be trained on a subset of the tracking dataframe since it has the positions of all horses and races. So I think we can frame this part like \"we are able to build predictive model for positions in a race for any horses so that the stakeholders can be better informed during a race to make decisions\"."
      ]
    },
    {
      "cell_type": "code",
      "execution_count": 247,
      "metadata": {
        "colab": {
          "base_uri": "https://localhost:8080/",
          "height": 363
        },
        "id": "KGdsK1CFKPvE",
        "outputId": "1a783808-9430-4b87-de2b-18a77235d7f9"
      },
      "outputs": [
        {
          "data": {
            "text/html": [
              "\n",
              "  <div id=\"df-1f41415d-c3c5-4f09-a907-475cac30df5e\">\n",
              "    <div class=\"colab-df-container\">\n",
              "      <div>\n",
              "<style scoped>\n",
              "    .dataframe tbody tr th:only-of-type {\n",
              "        vertical-align: middle;\n",
              "    }\n",
              "\n",
              "    .dataframe tbody tr th {\n",
              "        vertical-align: top;\n",
              "    }\n",
              "\n",
              "    .dataframe thead th {\n",
              "        text-align: right;\n",
              "    }\n",
              "</style>\n",
              "<table border=\"1\" class=\"dataframe\">\n",
              "  <thead>\n",
              "    <tr style=\"text-align: right;\">\n",
              "      <th></th>\n",
              "      <th>track_id</th>\n",
              "      <th>race_date</th>\n",
              "      <th>race_number</th>\n",
              "      <th>program_number</th>\n",
              "      <th>trakus_index</th>\n",
              "      <th>latitude</th>\n",
              "      <th>longitude</th>\n",
              "    </tr>\n",
              "  </thead>\n",
              "  <tbody>\n",
              "    <tr>\n",
              "      <th>2576960</th>\n",
              "      <td>AQU</td>\n",
              "      <td>2019-01-26</td>\n",
              "      <td>5</td>\n",
              "      <td>4</td>\n",
              "      <td>205</td>\n",
              "      <td>40.673511</td>\n",
              "      <td>-73.831037</td>\n",
              "    </tr>\n",
              "    <tr>\n",
              "      <th>4003806</th>\n",
              "      <td>BEL</td>\n",
              "      <td>2019-10-24</td>\n",
              "      <td>4</td>\n",
              "      <td>2</td>\n",
              "      <td>86</td>\n",
              "      <td>40.716499</td>\n",
              "      <td>-73.720532</td>\n",
              "    </tr>\n",
              "    <tr>\n",
              "      <th>3014655</th>\n",
              "      <td>BEL</td>\n",
              "      <td>2019-07-07</td>\n",
              "      <td>1</td>\n",
              "      <td>7</td>\n",
              "      <td>385</td>\n",
              "      <td>40.713436</td>\n",
              "      <td>-73.721098</td>\n",
              "    </tr>\n",
              "    <tr>\n",
              "      <th>2441459</th>\n",
              "      <td>SAR</td>\n",
              "      <td>2019-07-12</td>\n",
              "      <td>10</td>\n",
              "      <td>5</td>\n",
              "      <td>92</td>\n",
              "      <td>43.072272</td>\n",
              "      <td>-73.764368</td>\n",
              "    </tr>\n",
              "    <tr>\n",
              "      <th>431888</th>\n",
              "      <td>BEL</td>\n",
              "      <td>2019-10-02</td>\n",
              "      <td>4</td>\n",
              "      <td>3</td>\n",
              "      <td>378</td>\n",
              "      <td>40.713440</td>\n",
              "      <td>-73.722473</td>\n",
              "    </tr>\n",
              "    <tr>\n",
              "      <th>1886095</th>\n",
              "      <td>AQU</td>\n",
              "      <td>2019-02-21</td>\n",
              "      <td>5</td>\n",
              "      <td>7</td>\n",
              "      <td>271</td>\n",
              "      <td>40.672487</td>\n",
              "      <td>-73.831553</td>\n",
              "    </tr>\n",
              "    <tr>\n",
              "      <th>1190523</th>\n",
              "      <td>AQU</td>\n",
              "      <td>2019-04-20</td>\n",
              "      <td>4</td>\n",
              "      <td>7</td>\n",
              "      <td>313</td>\n",
              "      <td>40.672056</td>\n",
              "      <td>-73.831733</td>\n",
              "    </tr>\n",
              "    <tr>\n",
              "      <th>4624084</th>\n",
              "      <td>SAR</td>\n",
              "      <td>2019-08-23</td>\n",
              "      <td>4</td>\n",
              "      <td>2</td>\n",
              "      <td>75</td>\n",
              "      <td>43.071640</td>\n",
              "      <td>-73.764897</td>\n",
              "    </tr>\n",
              "    <tr>\n",
              "      <th>3494393</th>\n",
              "      <td>AQU</td>\n",
              "      <td>2019-03-31</td>\n",
              "      <td>9</td>\n",
              "      <td>4</td>\n",
              "      <td>29</td>\n",
              "      <td>40.671054</td>\n",
              "      <td>-73.828418</td>\n",
              "    </tr>\n",
              "    <tr>\n",
              "      <th>1935431</th>\n",
              "      <td>AQU</td>\n",
              "      <td>2019-04-07</td>\n",
              "      <td>8</td>\n",
              "      <td>6</td>\n",
              "      <td>27</td>\n",
              "      <td>40.673404</td>\n",
              "      <td>-73.830348</td>\n",
              "    </tr>\n",
              "  </tbody>\n",
              "</table>\n",
              "</div>\n",
              "      <button class=\"colab-df-convert\" onclick=\"convertToInteractive('df-1f41415d-c3c5-4f09-a907-475cac30df5e')\"\n",
              "              title=\"Convert this dataframe to an interactive table.\"\n",
              "              style=\"display:none;\">\n",
              "        \n",
              "  <svg xmlns=\"http://www.w3.org/2000/svg\" height=\"24px\"viewBox=\"0 0 24 24\"\n",
              "       width=\"24px\">\n",
              "    <path d=\"M0 0h24v24H0V0z\" fill=\"none\"/>\n",
              "    <path d=\"M18.56 5.44l.94 2.06.94-2.06 2.06-.94-2.06-.94-.94-2.06-.94 2.06-2.06.94zm-11 1L8.5 8.5l.94-2.06 2.06-.94-2.06-.94L8.5 2.5l-.94 2.06-2.06.94zm10 10l.94 2.06.94-2.06 2.06-.94-2.06-.94-.94-2.06-.94 2.06-2.06.94z\"/><path d=\"M17.41 7.96l-1.37-1.37c-.4-.4-.92-.59-1.43-.59-.52 0-1.04.2-1.43.59L10.3 9.45l-7.72 7.72c-.78.78-.78 2.05 0 2.83L4 21.41c.39.39.9.59 1.41.59.51 0 1.02-.2 1.41-.59l7.78-7.78 2.81-2.81c.8-.78.8-2.07 0-2.86zM5.41 20L4 18.59l7.72-7.72 1.47 1.35L5.41 20z\"/>\n",
              "  </svg>\n",
              "      </button>\n",
              "      \n",
              "  <style>\n",
              "    .colab-df-container {\n",
              "      display:flex;\n",
              "      flex-wrap:wrap;\n",
              "      gap: 12px;\n",
              "    }\n",
              "\n",
              "    .colab-df-convert {\n",
              "      background-color: #E8F0FE;\n",
              "      border: none;\n",
              "      border-radius: 50%;\n",
              "      cursor: pointer;\n",
              "      display: none;\n",
              "      fill: #1967D2;\n",
              "      height: 32px;\n",
              "      padding: 0 0 0 0;\n",
              "      width: 32px;\n",
              "    }\n",
              "\n",
              "    .colab-df-convert:hover {\n",
              "      background-color: #E2EBFA;\n",
              "      box-shadow: 0px 1px 2px rgba(60, 64, 67, 0.3), 0px 1px 3px 1px rgba(60, 64, 67, 0.15);\n",
              "      fill: #174EA6;\n",
              "    }\n",
              "\n",
              "    [theme=dark] .colab-df-convert {\n",
              "      background-color: #3B4455;\n",
              "      fill: #D2E3FC;\n",
              "    }\n",
              "\n",
              "    [theme=dark] .colab-df-convert:hover {\n",
              "      background-color: #434B5C;\n",
              "      box-shadow: 0px 1px 3px 1px rgba(0, 0, 0, 0.15);\n",
              "      filter: drop-shadow(0px 1px 2px rgba(0, 0, 0, 0.3));\n",
              "      fill: #FFFFFF;\n",
              "    }\n",
              "  </style>\n",
              "\n",
              "      <script>\n",
              "        const buttonEl =\n",
              "          document.querySelector('#df-1f41415d-c3c5-4f09-a907-475cac30df5e button.colab-df-convert');\n",
              "        buttonEl.style.display =\n",
              "          google.colab.kernel.accessAllowed ? 'block' : 'none';\n",
              "\n",
              "        async function convertToInteractive(key) {\n",
              "          const element = document.querySelector('#df-1f41415d-c3c5-4f09-a907-475cac30df5e');\n",
              "          const dataTable =\n",
              "            await google.colab.kernel.invokeFunction('convertToInteractive',\n",
              "                                                     [key], {});\n",
              "          if (!dataTable) return;\n",
              "\n",
              "          const docLinkHtml = 'Like what you see? Visit the ' +\n",
              "            '<a target=\"_blank\" href=https://colab.research.google.com/notebooks/data_table.ipynb>data table notebook</a>'\n",
              "            + ' to learn more about interactive tables.';\n",
              "          element.innerHTML = '';\n",
              "          dataTable['output_type'] = 'display_data';\n",
              "          await google.colab.output.renderOutput(dataTable, element);\n",
              "          const docLink = document.createElement('div');\n",
              "          docLink.innerHTML = docLinkHtml;\n",
              "          element.appendChild(docLink);\n",
              "        }\n",
              "      </script>\n",
              "    </div>\n",
              "  </div>\n",
              "  "
            ],
            "text/plain": [
              "        track_id   race_date  race_number program_number  trakus_index  \\\n",
              "2576960      AQU  2019-01-26            5            4             205   \n",
              "4003806      BEL  2019-10-24            4            2              86   \n",
              "3014655      BEL  2019-07-07            1            7             385   \n",
              "2441459      SAR  2019-07-12           10            5              92   \n",
              "431888       BEL  2019-10-02            4            3             378   \n",
              "1886095      AQU  2019-02-21            5            7             271   \n",
              "1190523      AQU  2019-04-20            4            7             313   \n",
              "4624084      SAR  2019-08-23            4            2              75   \n",
              "3494393      AQU  2019-03-31            9            4              29   \n",
              "1935431      AQU  2019-04-07            8            6              27   \n",
              "\n",
              "          latitude  longitude  \n",
              "2576960  40.673511 -73.831037  \n",
              "4003806  40.716499 -73.720532  \n",
              "3014655  40.713436 -73.721098  \n",
              "2441459  43.072272 -73.764368  \n",
              "431888   40.713440 -73.722473  \n",
              "1886095  40.672487 -73.831553  \n",
              "1190523  40.672056 -73.831733  \n",
              "4624084  43.071640 -73.764897  \n",
              "3494393  40.671054 -73.828418  \n",
              "1935431  40.673404 -73.830348  "
            ]
          },
          "execution_count": 247,
          "metadata": {},
          "output_type": "execute_result"
        }
      ],
      "source": [
        "tracking.sample(10)"
      ]
    },
    {
      "cell_type": "code",
      "execution_count": 248,
      "metadata": {
        "id": "_ec83_8g4B1J"
      },
      "outputs": [],
      "source": [
        "# Merge the weather data.\n",
        "dfmerged = pd.concat([aqu, bel, sar], axis=0, ignore_index=True)\n",
        "dfmerged = dfmerged.drop(dfmerged.columns[[0]],axis = 1)"
      ]
    },
    {
      "cell_type": "code",
      "execution_count": 253,
      "metadata": {
        "id": "Y4oXXNfd4U4l"
      },
      "outputs": [],
      "source": [
        "final = pd.merge(start_race, dfmerged,  how='left', left_on=[\"track_id\",\"race_date\"], right_on = ['local','day']).drop(\n",
        "    ['local', 'day'], axis = 1)"
      ]
    },
    {
      "cell_type": "code",
      "execution_count": 255,
      "metadata": {
        "colab": {
          "base_uri": "https://localhost:8080/",
          "height": 560
        },
        "id": "TNvjMQ4Z4ebl",
        "outputId": "bfaf03b4-f8df-4639-a1a6-24984bf97efe"
      },
      "outputs": [
        {
          "data": {
            "text/html": [
              "\n",
              "  <div id=\"df-5e5180c2-ca6c-4beb-8ef9-a6ddc38542fb\">\n",
              "    <div class=\"colab-df-container\">\n",
              "      <div>\n",
              "<style scoped>\n",
              "    .dataframe tbody tr th:only-of-type {\n",
              "        vertical-align: middle;\n",
              "    }\n",
              "\n",
              "    .dataframe tbody tr th {\n",
              "        vertical-align: top;\n",
              "    }\n",
              "\n",
              "    .dataframe thead th {\n",
              "        text-align: right;\n",
              "    }\n",
              "</style>\n",
              "<table border=\"1\" class=\"dataframe\">\n",
              "  <thead>\n",
              "    <tr style=\"text-align: right;\">\n",
              "      <th></th>\n",
              "      <th>track_id</th>\n",
              "      <th>race_date</th>\n",
              "      <th>race_number</th>\n",
              "      <th>program_number</th>\n",
              "      <th>weight_carried</th>\n",
              "      <th>jockey</th>\n",
              "      <th>odds</th>\n",
              "      <th>position_at_finish</th>\n",
              "      <th>distance_id</th>\n",
              "      <th>course_type</th>\n",
              "      <th>...</th>\n",
              "      <th>day_since_last_race</th>\n",
              "      <th>Comments</th>\n",
              "      <th>humidity</th>\n",
              "      <th>precipcover</th>\n",
              "      <th>precip</th>\n",
              "      <th>temp</th>\n",
              "      <th>maxt</th>\n",
              "      <th>cloudcover</th>\n",
              "      <th>weathertype</th>\n",
              "      <th>snow</th>\n",
              "    </tr>\n",
              "  </thead>\n",
              "  <tbody>\n",
              "    <tr>\n",
              "      <th>0</th>\n",
              "      <td>AQU</td>\n",
              "      <td>2019-01-01</td>\n",
              "      <td>1</td>\n",
              "      <td>1</td>\n",
              "      <td>123</td>\n",
              "      <td>Dylan Davis</td>\n",
              "      <td>130</td>\n",
              "      <td>2</td>\n",
              "      <td>650</td>\n",
              "      <td>D</td>\n",
              "      <td>...</td>\n",
              "      <td>37 days</td>\n",
              "      <td>ins,drve5/16,outlate</td>\n",
              "      <td>73.59</td>\n",
              "      <td>20.83</td>\n",
              "      <td>0.3</td>\n",
              "      <td>50.5</td>\n",
              "      <td>59.1</td>\n",
              "      <td>67.6</td>\n",
              "      <td>Mist, Rain, Fog, Heavy Rain, Light Rain</td>\n",
              "      <td>0.0</td>\n",
              "    </tr>\n",
              "    <tr>\n",
              "      <th>1</th>\n",
              "      <td>AQU</td>\n",
              "      <td>2019-01-01</td>\n",
              "      <td>1</td>\n",
              "      <td>2</td>\n",
              "      <td>120</td>\n",
              "      <td>Junior Alvarado</td>\n",
              "      <td>295</td>\n",
              "      <td>3</td>\n",
              "      <td>650</td>\n",
              "      <td>D</td>\n",
              "      <td>...</td>\n",
              "      <td>25 days</td>\n",
              "      <td>torail1/2,6p1/8,mild</td>\n",
              "      <td>73.59</td>\n",
              "      <td>20.83</td>\n",
              "      <td>0.3</td>\n",
              "      <td>50.5</td>\n",
              "      <td>59.1</td>\n",
              "      <td>67.6</td>\n",
              "      <td>Mist, Rain, Fog, Heavy Rain, Light Rain</td>\n",
              "      <td>0.0</td>\n",
              "    </tr>\n",
              "    <tr>\n",
              "      <th>2</th>\n",
              "      <td>AQU</td>\n",
              "      <td>2019-01-01</td>\n",
              "      <td>1</td>\n",
              "      <td>3</td>\n",
              "      <td>118</td>\n",
              "      <td>Jose Lezcano</td>\n",
              "      <td>180</td>\n",
              "      <td>4</td>\n",
              "      <td>650</td>\n",
              "      <td>D</td>\n",
              "      <td>...</td>\n",
              "      <td>37 days</td>\n",
              "      <td>prompted2w,folded</td>\n",
              "      <td>73.59</td>\n",
              "      <td>20.83</td>\n",
              "      <td>0.3</td>\n",
              "      <td>50.5</td>\n",
              "      <td>59.1</td>\n",
              "      <td>67.6</td>\n",
              "      <td>Mist, Rain, Fog, Heavy Rain, Light Rain</td>\n",
              "      <td>0.0</td>\n",
              "    </tr>\n",
              "    <tr>\n",
              "      <th>3</th>\n",
              "      <td>AQU</td>\n",
              "      <td>2019-01-01</td>\n",
              "      <td>1</td>\n",
              "      <td>4</td>\n",
              "      <td>123</td>\n",
              "      <td>Jomar Garcia</td>\n",
              "      <td>1280</td>\n",
              "      <td>5</td>\n",
              "      <td>650</td>\n",
              "      <td>D</td>\n",
              "      <td>...</td>\n",
              "      <td>17 days</td>\n",
              "      <td>3wturn,alter5p1/8</td>\n",
              "      <td>73.59</td>\n",
              "      <td>20.83</td>\n",
              "      <td>0.3</td>\n",
              "      <td>50.5</td>\n",
              "      <td>59.1</td>\n",
              "      <td>67.6</td>\n",
              "      <td>Mist, Rain, Fog, Heavy Rain, Light Rain</td>\n",
              "      <td>0.0</td>\n",
              "    </tr>\n",
              "    <tr>\n",
              "      <th>4</th>\n",
              "      <td>AQU</td>\n",
              "      <td>2019-01-01</td>\n",
              "      <td>1</td>\n",
              "      <td>5</td>\n",
              "      <td>118</td>\n",
              "      <td>Manuel Franco</td>\n",
              "      <td>1150</td>\n",
              "      <td>1</td>\n",
              "      <td>650</td>\n",
              "      <td>D</td>\n",
              "      <td>...</td>\n",
              "      <td>37 days</td>\n",
              "      <td>3-4w,drve5/16,4w,up</td>\n",
              "      <td>73.59</td>\n",
              "      <td>20.83</td>\n",
              "      <td>0.3</td>\n",
              "      <td>50.5</td>\n",
              "      <td>59.1</td>\n",
              "      <td>67.6</td>\n",
              "      <td>Mist, Rain, Fog, Heavy Rain, Light Rain</td>\n",
              "      <td>0.0</td>\n",
              "    </tr>\n",
              "  </tbody>\n",
              "</table>\n",
              "<p>5 rows × 26 columns</p>\n",
              "</div>\n",
              "      <button class=\"colab-df-convert\" onclick=\"convertToInteractive('df-5e5180c2-ca6c-4beb-8ef9-a6ddc38542fb')\"\n",
              "              title=\"Convert this dataframe to an interactive table.\"\n",
              "              style=\"display:none;\">\n",
              "        \n",
              "  <svg xmlns=\"http://www.w3.org/2000/svg\" height=\"24px\"viewBox=\"0 0 24 24\"\n",
              "       width=\"24px\">\n",
              "    <path d=\"M0 0h24v24H0V0z\" fill=\"none\"/>\n",
              "    <path d=\"M18.56 5.44l.94 2.06.94-2.06 2.06-.94-2.06-.94-.94-2.06-.94 2.06-2.06.94zm-11 1L8.5 8.5l.94-2.06 2.06-.94-2.06-.94L8.5 2.5l-.94 2.06-2.06.94zm10 10l.94 2.06.94-2.06 2.06-.94-2.06-.94-.94-2.06-.94 2.06-2.06.94z\"/><path d=\"M17.41 7.96l-1.37-1.37c-.4-.4-.92-.59-1.43-.59-.52 0-1.04.2-1.43.59L10.3 9.45l-7.72 7.72c-.78.78-.78 2.05 0 2.83L4 21.41c.39.39.9.59 1.41.59.51 0 1.02-.2 1.41-.59l7.78-7.78 2.81-2.81c.8-.78.8-2.07 0-2.86zM5.41 20L4 18.59l7.72-7.72 1.47 1.35L5.41 20z\"/>\n",
              "  </svg>\n",
              "      </button>\n",
              "      \n",
              "  <style>\n",
              "    .colab-df-container {\n",
              "      display:flex;\n",
              "      flex-wrap:wrap;\n",
              "      gap: 12px;\n",
              "    }\n",
              "\n",
              "    .colab-df-convert {\n",
              "      background-color: #E8F0FE;\n",
              "      border: none;\n",
              "      border-radius: 50%;\n",
              "      cursor: pointer;\n",
              "      display: none;\n",
              "      fill: #1967D2;\n",
              "      height: 32px;\n",
              "      padding: 0 0 0 0;\n",
              "      width: 32px;\n",
              "    }\n",
              "\n",
              "    .colab-df-convert:hover {\n",
              "      background-color: #E2EBFA;\n",
              "      box-shadow: 0px 1px 2px rgba(60, 64, 67, 0.3), 0px 1px 3px 1px rgba(60, 64, 67, 0.15);\n",
              "      fill: #174EA6;\n",
              "    }\n",
              "\n",
              "    [theme=dark] .colab-df-convert {\n",
              "      background-color: #3B4455;\n",
              "      fill: #D2E3FC;\n",
              "    }\n",
              "\n",
              "    [theme=dark] .colab-df-convert:hover {\n",
              "      background-color: #434B5C;\n",
              "      box-shadow: 0px 1px 3px 1px rgba(0, 0, 0, 0.15);\n",
              "      filter: drop-shadow(0px 1px 2px rgba(0, 0, 0, 0.3));\n",
              "      fill: #FFFFFF;\n",
              "    }\n",
              "  </style>\n",
              "\n",
              "      <script>\n",
              "        const buttonEl =\n",
              "          document.querySelector('#df-5e5180c2-ca6c-4beb-8ef9-a6ddc38542fb button.colab-df-convert');\n",
              "        buttonEl.style.display =\n",
              "          google.colab.kernel.accessAllowed ? 'block' : 'none';\n",
              "\n",
              "        async function convertToInteractive(key) {\n",
              "          const element = document.querySelector('#df-5e5180c2-ca6c-4beb-8ef9-a6ddc38542fb');\n",
              "          const dataTable =\n",
              "            await google.colab.kernel.invokeFunction('convertToInteractive',\n",
              "                                                     [key], {});\n",
              "          if (!dataTable) return;\n",
              "\n",
              "          const docLinkHtml = 'Like what you see? Visit the ' +\n",
              "            '<a target=\"_blank\" href=https://colab.research.google.com/notebooks/data_table.ipynb>data table notebook</a>'\n",
              "            + ' to learn more about interactive tables.';\n",
              "          element.innerHTML = '';\n",
              "          dataTable['output_type'] = 'display_data';\n",
              "          await google.colab.output.renderOutput(dataTable, element);\n",
              "          const docLink = document.createElement('div');\n",
              "          docLink.innerHTML = docLinkHtml;\n",
              "          element.appendChild(docLink);\n",
              "        }\n",
              "      </script>\n",
              "    </div>\n",
              "  </div>\n",
              "  "
            ],
            "text/plain": [
              "  track_id   race_date  race_number program_number  weight_carried  \\\n",
              "0      AQU  2019-01-01            1              1             123   \n",
              "1      AQU  2019-01-01            1              2             120   \n",
              "2      AQU  2019-01-01            1              3             118   \n",
              "3      AQU  2019-01-01            1              4             123   \n",
              "4      AQU  2019-01-01            1              5             118   \n",
              "\n",
              "            jockey  odds  position_at_finish  distance_id course_type  ...  \\\n",
              "0      Dylan Davis   130                   2          650           D  ...   \n",
              "1  Junior Alvarado   295                   3          650           D  ...   \n",
              "2     Jose Lezcano   180                   4          650           D  ...   \n",
              "3     Jomar Garcia  1280                   5          650           D  ...   \n",
              "4    Manuel Franco  1150                   1          650           D  ...   \n",
              "\n",
              "  day_since_last_race              Comments humidity  precipcover  precip  \\\n",
              "0             37 days  ins,drve5/16,outlate    73.59        20.83     0.3   \n",
              "1             25 days  torail1/2,6p1/8,mild    73.59        20.83     0.3   \n",
              "2             37 days     prompted2w,folded    73.59        20.83     0.3   \n",
              "3             17 days     3wturn,alter5p1/8    73.59        20.83     0.3   \n",
              "4             37 days   3-4w,drve5/16,4w,up    73.59        20.83     0.3   \n",
              "\n",
              "   temp  maxt cloudcover                              weathertype  snow  \n",
              "0  50.5  59.1       67.6  Mist, Rain, Fog, Heavy Rain, Light Rain   0.0  \n",
              "1  50.5  59.1       67.6  Mist, Rain, Fog, Heavy Rain, Light Rain   0.0  \n",
              "2  50.5  59.1       67.6  Mist, Rain, Fog, Heavy Rain, Light Rain   0.0  \n",
              "3  50.5  59.1       67.6  Mist, Rain, Fog, Heavy Rain, Light Rain   0.0  \n",
              "4  50.5  59.1       67.6  Mist, Rain, Fog, Heavy Rain, Light Rain   0.0  \n",
              "\n",
              "[5 rows x 26 columns]"
            ]
          },
          "execution_count": 255,
          "metadata": {},
          "output_type": "execute_result"
        }
      ],
      "source": [
        "final.head()"
      ]
    },
    {
      "cell_type": "code",
      "execution_count": 256,
      "metadata": {
        "id": "-lqCY6M-4QRp"
      },
      "outputs": [],
      "source": [
        "final.to_csv(path + \"/data/merged_data/joined_data_without_position.csv\", encoding='utf-8')"
      ]
    }
  ],
  "metadata": {
    "accelerator": "GPU",
    "colab": {
      "machine_shape": "hm",
      "provenance": []
    },
    "gpuClass": "standard",
    "kernelspec": {
      "display_name": "Python 3",
      "name": "python3"
    },
    "language_info": {
      "name": "python"
    }
  },
  "nbformat": 4,
  "nbformat_minor": 0
}
