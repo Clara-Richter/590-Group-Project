{
  "nbformat": 4,
  "nbformat_minor": 0,
  "metadata": {
    "colab": {
      "provenance": [],
      "machine_shape": "hm"
    },
    "kernelspec": {
      "name": "python3",
      "display_name": "Python 3"
    },
    "language_info": {
      "name": "python"
    },
    "accelerator": "GPU",
    "gpuClass": "standard"
  },
  "cells": [
    {
      "cell_type": "markdown",
      "source": [
        "# Load Data"
      ],
      "metadata": {
        "id": "JH-mKdKYMCPA"
      }
    },
    {
      "cell_type": "code",
      "execution_count": 1,
      "metadata": {
        "id": "cp29yqktnmfC",
        "colab": {
          "base_uri": "https://localhost:8080/"
        },
        "outputId": "a41f53ea-2711-441d-bff0-dc73a4ec3794"
      },
      "outputs": [
        {
          "output_type": "stream",
          "name": "stdout",
          "text": [
            "Looking in indexes: https://pypi.org/simple, https://us-python.pkg.dev/colab-wheels/public/simple/\n",
            "Requirement already satisfied: wordninja in /usr/local/lib/python3.7/dist-packages (2.0.0)\n",
            "Drive already mounted at /content/drive; to attempt to forcibly remount, call drive.mount(\"/content/drive\", force_remount=True).\n"
          ]
        }
      ],
      "source": [
        "!pip install wordninja\n",
        "\n",
        "import pandas as pd\n",
        "import numpy as np\n",
        "import wordninja\n",
        "from nltk.tokenize import RegexpTokenizer\n",
        "\n",
        "from google.colab import drive\n",
        "drive.mount('/content/drive')"
      ]
    },
    {
      "cell_type": "code",
      "source": [
        "# Specify the path to our shared drive. Should work for all of us.\n",
        "path = '/content/drive/Shareddrives/ANLY590_GROUP_4_PROJECT'"
      ],
      "metadata": {
        "id": "ovcJfI-roW0Z"
      },
      "execution_count": 2,
      "outputs": []
    },
    {
      "cell_type": "code",
      "source": [
        "col_names_complete = ['track_id','race_date','race_number','program_number','trakus_index','latitude',\n",
        "                      'longitude','distance_id','course_type','track_condition','run_up_distance','race_type',\n",
        "                      'unknown', 'post_time', 'weight_carried','jockey','odds','position_at_finish']\n",
        "\n",
        "col_names_start = ['track_id','race_date','race_number','program_number','weight_carried','jockey','odds','position_at_finish']"
      ],
      "metadata": {
        "id": "cq6n334_q-LY"
      },
      "execution_count": 3,
      "outputs": []
    },
    {
      "cell_type": "code",
      "source": [
        "# Load the datasets.\n",
        "complete = pd.read_csv(path + '/data/raw/nyra_2019_complete_raw.csv', names = col_names_complete, index_col=False)\n",
        "\n",
        "start = pd.read_csv(path + '/data/raw/nyra_start_table_raw.csv', names = col_names_start, index_col=False)\n",
        "\n",
        "race = pd.read_csv(path + '/data/raw/nyra_race_table_raw.csv', index_col=False)\n",
        "\n",
        "tracking = pd.read_csv(path + '/data/raw/nyra_tracking_table_raw.csv', index_col=False)\n",
        "\n",
        "pdf = pd.read_csv(path + '/data/raw/historical_results.csv', index_col=False)\n",
        "\n",
        "aqu = pd.read_csv(path + '/data/raw/weather_data/aqu.csv')\n",
        "\n",
        "bel = pd.read_csv(path + '/data/raw/weather_data/bel.csv')\n",
        "\n",
        "sar = pd.read_csv(path + '/data/raw/weather_data/sar.csv')"
      ],
      "metadata": {
        "id": "vBioX8kXogPf",
        "colab": {
          "base_uri": "https://localhost:8080/"
        },
        "outputId": "c9136a76-45cb-4cff-a4c6-dc1b19600e37"
      },
      "execution_count": 4,
      "outputs": [
        {
          "output_type": "stream",
          "name": "stderr",
          "text": [
            "/usr/local/lib/python3.7/dist-packages/IPython/core/interactiveshell.py:3326: DtypeWarning: Columns (3) have mixed types.Specify dtype option on import or set low_memory=False.\n",
            "  exec(code_obj, self.user_global_ns, self.user_ns)\n"
          ]
        }
      ]
    },
    {
      "cell_type": "markdown",
      "source": [
        "# Codebook"
      ],
      "metadata": {
        "id": "9s6JJw-cMKwv"
      }
    },
    {
      "cell_type": "markdown",
      "source": [
        "#### nyra_start_table.csv\n",
        "\n",
        "- track_id - 3 character id for the track the race took place at. AQU -Aqueduct, BEL - Belmont, SAR - Saratoga.\n",
        "- race_date - date the race took place. YYYY-MM-DD.\n",
        "- race_number - Number of the race. Passed as 3 characters but can be cast or converted to int for this data set.\n",
        "- program_number - Program number of the horse in the race passed as 3 characters. Should remain 3 characters as it isn't limited to just numbers. Is essentially the unique identifier of the horse in the race.\n",
        "- weight_carried - An integer of the weight carried by the horse in the race.\n",
        "- jockey - Name of the jockey on the horse in the race. 50 character max.\n",
        "- odds - Odds to win the race passed as an integer. Divide by 100 to derive the odds to 1. Example - 1280 would be 12.8-1.\n",
        "- position_at_finish - An integer of the horse's finishing position. (added to the dataset 9/8/22)\n",
        "\n"
      ],
      "metadata": {
        "id": "5xVyBpVn7Wzg"
      }
    },
    {
      "cell_type": "markdown",
      "source": [
        "#### nyra_race_table.csv\n",
        "\n",
        "- track_id - 3 character id for the track the race took place at. AQU -Aqueduct, BEL - Belmont, SAR - Saratoga.\n",
        "- race_date - date the race took place. YYYY-MM-DD.\n",
        "- race_number - Number of the race. Passed as 3 characters but can be cast or converted to int for this data set.\n",
        "- distance_id - Distance of the race in furlongs passed as an integer. Example - 600 would be 6 furlongs.\n",
        "- course_type - The course the race was run over passed as one character. M - Hurdle, D - Dirt, O - Outer turf, I - Inner turf, T - turf.\n",
        "- track_condition - The condition of the course the race was run on passed as three characters. YL - Yielding, FM - Firm, SY - Sloppy, GD - Good, FT - Fast, MY - Muddy, SF - Soft.\n",
        "- run_up_distance - Distance in feet of the gate to the start of the race passed as an integer.\n",
        "- race_type - The classification of the race passed as as five characters. STK - Stakes, WCL - Waiver Claiming, WMC - Waiver Maiden Claiming, SST - Starter Stakes, SHP - Starter Handicap, CLM - Claiming, STR - Starter Allowance, AOC - Allowance Optionl Claimer, SOC - Starter Optional Claimer, MCL - Maiden Claiming, ALW - Allowance, MSW - Maiden Special Weight.\n",
        "- purse - Purse in US dollars of the race passed as an money with two decimal places.\n",
        "- post_time - Time of day the race began passed as 5 character. Example - 01220 would be 12:20.\n",
        "\n"
      ],
      "metadata": {
        "id": "Ff_a0aBeNCy7"
      }
    },
    {
      "cell_type": "markdown",
      "source": [
        "#### nyra_tracking_table.csv\n",
        "\n",
        "- track_id - 3 character id for the track the race took place at. AQU -Aqueduct, BEL - Belmont, SAR - Saratoga.\n",
        "- race_date - date the race took place. YYYY-MM-DD.\n",
        "- race_number - Number of the race. Passed as 3 characters but can be cast or converted to int for this data set.\n",
        "- program_number - Program number of the horse in the race passed as 3 characters. Should remain 3 characters as it isn't limited to just numbers. Is essentially the unique identifier of the horse in the race.\n",
        "- trakus_index - The common collection of point of the lat / long of the horse in the race passed as an integer. From what we can tell, it's collected every 0.25 seconds.\n",
        "- latitude - The latitude of the horse in the race passed as a float.\n",
        "- longitude - The longitude of the horse in the race passed as a float.\n",
        "\n"
      ],
      "metadata": {
        "id": "qkP5-uGuNEbQ"
      }
    },
    {
      "cell_type": "markdown",
      "source": [
        "#### nyra_2019_complete.csv \n",
        "This file is the combined 3 files into one table. The keys to join them trakus with race - track_id, race_date, race_number. To join trakus with start - track_id, race_date, race_number, program_number.\n",
        "\n",
        "- track_id - char(3)\n",
        "- race_date - date\n",
        "- race_number - char(3)\n",
        "- program_number - char(3)\n",
        "- trakus_index - int\n",
        "- latitude - float\n",
        "- longitude - float\n",
        "- distance_id - int\n",
        "- course_type - char(1)\n",
        "- track_condition - char(3)\n",
        "- run_up_distance - int\n",
        "- race_type - char(5)\n",
        "- post_time - char(5)\n",
        "- weight_carried - int\n",
        "- jockey - char(50)\n",
        "- odds - int\n",
        "- position_at_finish - An integer of the horse's finishing position. (added to the dataset 9/8/22)"
      ],
      "metadata": {
        "id": "7n-G8t45NGGe"
      }
    },
    {
      "cell_type": "code",
      "source": [
        "complete.info()"
      ],
      "metadata": {
        "colab": {
          "base_uri": "https://localhost:8080/"
        },
        "id": "VnPVAKJso03g",
        "outputId": "56db2abf-c3d7-4141-ac35-e86b3c338c79"
      },
      "execution_count": 5,
      "outputs": [
        {
          "output_type": "stream",
          "name": "stdout",
          "text": [
            "<class 'pandas.core.frame.DataFrame'>\n",
            "RangeIndex: 5228430 entries, 0 to 5228429\n",
            "Data columns (total 18 columns):\n",
            " #   Column              Dtype  \n",
            "---  ------              -----  \n",
            " 0   track_id            object \n",
            " 1   race_date           object \n",
            " 2   race_number         int64  \n",
            " 3   program_number      object \n",
            " 4   trakus_index        int64  \n",
            " 5   latitude            float64\n",
            " 6   longitude           float64\n",
            " 7   distance_id         int64  \n",
            " 8   course_type         object \n",
            " 9   track_condition     object \n",
            " 10  run_up_distance     int64  \n",
            " 11  race_type           object \n",
            " 12  unknown             float64\n",
            " 13  post_time           int64  \n",
            " 14  weight_carried      int64  \n",
            " 15  jockey              object \n",
            " 16  odds                int64  \n",
            " 17  position_at_finish  int64  \n",
            "dtypes: float64(3), int64(8), object(7)\n",
            "memory usage: 718.0+ MB\n"
          ]
        }
      ]
    },
    {
      "cell_type": "code",
      "source": [
        "start.info()"
      ],
      "metadata": {
        "colab": {
          "base_uri": "https://localhost:8080/"
        },
        "id": "5KfBcd25o2yr",
        "outputId": "d28a1115-dbde-4bd9-f1f4-4a5efc58dc90"
      },
      "execution_count": 6,
      "outputs": [
        {
          "output_type": "stream",
          "name": "stdout",
          "text": [
            "<class 'pandas.core.frame.DataFrame'>\n",
            "RangeIndex: 14915 entries, 0 to 14914\n",
            "Data columns (total 8 columns):\n",
            " #   Column              Non-Null Count  Dtype \n",
            "---  ------              --------------  ----- \n",
            " 0   track_id            14915 non-null  object\n",
            " 1   race_date           14915 non-null  object\n",
            " 2   race_number         14915 non-null  int64 \n",
            " 3   program_number      14915 non-null  object\n",
            " 4   weight_carried      14915 non-null  int64 \n",
            " 5   jockey              14915 non-null  object\n",
            " 6   odds                14915 non-null  int64 \n",
            " 7   position_at_finish  14915 non-null  int64 \n",
            "dtypes: int64(4), object(4)\n",
            "memory usage: 932.3+ KB\n"
          ]
        }
      ]
    },
    {
      "cell_type": "code",
      "source": [
        "race.info()"
      ],
      "metadata": {
        "colab": {
          "base_uri": "https://localhost:8080/"
        },
        "id": "me80C4MF8Zc5",
        "outputId": "3eb440bc-9d3a-4658-ade4-a115722deb9f"
      },
      "execution_count": 7,
      "outputs": [
        {
          "output_type": "stream",
          "name": "stdout",
          "text": [
            "<class 'pandas.core.frame.DataFrame'>\n",
            "RangeIndex: 2000 entries, 0 to 1999\n",
            "Data columns (total 10 columns):\n",
            " #   Column           Non-Null Count  Dtype \n",
            "---  ------           --------------  ----- \n",
            " 0   track_id         2000 non-null   object\n",
            " 1   race_date        2000 non-null   object\n",
            " 2   race_number      2000 non-null   int64 \n",
            " 3   distance_id      2000 non-null   int64 \n",
            " 4   course_type      2000 non-null   object\n",
            " 5   track_condition  2000 non-null   object\n",
            " 6   run_up_distance  2000 non-null   int64 \n",
            " 7   race_type        2000 non-null   object\n",
            " 8   purse            2000 non-null   int64 \n",
            " 9   post_time        2000 non-null   int64 \n",
            "dtypes: int64(5), object(5)\n",
            "memory usage: 156.4+ KB\n"
          ]
        }
      ]
    },
    {
      "cell_type": "code",
      "source": [
        "tracking.info()"
      ],
      "metadata": {
        "colab": {
          "base_uri": "https://localhost:8080/"
        },
        "id": "ORD5IsID8Zpw",
        "outputId": "c0570f19-e9fc-4895-c490-44bfcb637156"
      },
      "execution_count": 8,
      "outputs": [
        {
          "output_type": "stream",
          "name": "stdout",
          "text": [
            "<class 'pandas.core.frame.DataFrame'>\n",
            "RangeIndex: 5228430 entries, 0 to 5228429\n",
            "Data columns (total 7 columns):\n",
            " #   Column          Dtype  \n",
            "---  ------          -----  \n",
            " 0   track_id        object \n",
            " 1   race_date       object \n",
            " 2   race_number     int64  \n",
            " 3   program_number  object \n",
            " 4   trakus_index    int64  \n",
            " 5   latitude        float64\n",
            " 6   longitude       float64\n",
            "dtypes: float64(2), int64(2), object(3)\n",
            "memory usage: 279.2+ MB\n"
          ]
        }
      ]
    },
    {
      "cell_type": "code",
      "source": [
        "pdf.info()"
      ],
      "metadata": {
        "colab": {
          "base_uri": "https://localhost:8080/"
        },
        "id": "wBztlzT-xZr-",
        "outputId": "2b998093-fdf6-4980-b863-22960c2f98ca"
      },
      "execution_count": 9,
      "outputs": [
        {
          "output_type": "stream",
          "name": "stdout",
          "text": [
            "<class 'pandas.core.frame.DataFrame'>\n",
            "RangeIndex: 14354 entries, 0 to 14353\n",
            "Data columns (total 17 columns):\n",
            " #   Column             Non-Null Count  Dtype \n",
            "---  ------             --------------  ----- \n",
            " 0   Track              14354 non-null  object\n",
            " 1   Date               14354 non-null  object\n",
            " 2   Race               14354 non-null  int64 \n",
            " 3   LastRaced          14354 non-null  object\n",
            " 4   Pgm                14354 non-null  object\n",
            " 5   HorseName(Jockey)  14354 non-null  object\n",
            " 6   Wgt                14354 non-null  object\n",
            " 7   M/E                14354 non-null  object\n",
            " 8   PP                 14354 non-null  int64 \n",
            " 9   Start              14354 non-null  object\n",
            " 10  0.25               14354 non-null  object\n",
            " 11  0.5                14354 non-null  object\n",
            " 12  0.75               14354 non-null  object\n",
            " 13  Str                14354 non-null  object\n",
            " 14  Fin                14354 non-null  object\n",
            " 15  Odds               14354 non-null  object\n",
            " 16  Comments           14354 non-null  object\n",
            "dtypes: int64(2), object(15)\n",
            "memory usage: 1.9+ MB\n"
          ]
        }
      ]
    },
    {
      "cell_type": "markdown",
      "source": [
        "# Merging"
      ],
      "metadata": {
        "id": "K4AG2FzQNOVg"
      }
    },
    {
      "cell_type": "markdown",
      "source": [
        "### Our questions:\n",
        "\n",
        "(1) Can we accurately predict a horse’s finish position and what factors are most influential in determining this? \n",
        "\n",
        "(2) What factors are most deterministic in predicting the odds of a horse to win a race? \n",
        "\n",
        "(3) What factors are most influential in predicting the amount of money put into a race? \n",
        "\n",
        "(4) What factors determine the amount of time it takes a horse to finish a race? \n",
        "\n",
        "(5) Does the track type, course type, race type, or track condition play a role in determining horse performance or health? \n",
        "\n",
        "(6) What role does the geography and position of the horse in a race play in its outcome? \n"
      ],
      "metadata": {
        "id": "MpUyMG5JQXAN"
      }
    },
    {
      "cell_type": "markdown",
      "source": [
        "Since the complete dataframe was created by merging all three datasets including the real-time position (traking) dataframe, I don't think we need to use this complete dataframe. I think the merged start and race should be enough for answering the first five question. We can use the tracking df to approach the last question. "
      ],
      "metadata": {
        "id": "e5yHeec0NmIP"
      }
    },
    {
      "cell_type": "code",
      "source": [
        "# Change the type for some columns.\n",
        "race['distance_id'] = race['distance_id'].astype('int64')\n",
        "race['run_up_distance'] = race['run_up_distance'].astype('int64')\n",
        "race['purse'] = race['purse'].astype('int64')\n",
        "start['program_number'] = start['program_number'].apply(lambda x : x.replace(\" \", \"\"))"
      ],
      "metadata": {
        "id": "D898roQoK0pQ"
      },
      "execution_count": 10,
      "outputs": []
    },
    {
      "cell_type": "code",
      "source": [
        "# Locate the right place to separate the column.\n",
        "def find_numeric(string):\n",
        "  place = False\n",
        "  for i in range(0, len(string)):\n",
        "    if not string[i].isalpha():\n",
        "      continue\n",
        "    else:\n",
        "      return i + 5"
      ],
      "metadata": {
        "id": "_vfUwrU3WhUZ"
      },
      "execution_count": 11,
      "outputs": []
    },
    {
      "cell_type": "code",
      "source": [
        "# Clening up the scraped pdf csv.\n",
        "pdf['LastRaced'] = pdf['LastRaced'].replace('---', np.nan, regex=True)\n",
        "pdf['Track'] = pdf['Track'].apply(lambda x : x[0:3])\n",
        "pdf['last_race_track'] = pdf['LastRaced'].apply(lambda x : x[-4:-1] if x is not np.nan else np.nan)\n",
        "pdf['last_race_date'] = pd.to_datetime(pdf['LastRaced'].apply(lambda x : x[0 : find_numeric(x)] if x is not np.nan else np.nan), \n",
        "                                       format=\"%d%b%y\", \n",
        "                                       errors='coerce')\n",
        "pdf['Date'] = pd.to_datetime(pdf['Date'], format=\"%B%d,%Y\")\n",
        "pdf['day_since_last_race'] = pdf['Date'] - pdf['last_race_date']"
      ],
      "metadata": {
        "id": "02mAYspb0mo4"
      },
      "execution_count": 12,
      "outputs": []
    },
    {
      "cell_type": "code",
      "source": [
        "# Splt the commnets to tokens,\n",
        "res = []\n",
        "tokenizer = RegexpTokenizer(r'\\w+')\n",
        "for i in pdf.Comments:\n",
        "  if type(i) == str:\n",
        "    phrase_list = tokenizer.tokenize(i)\n",
        "    splited_tokens = [wordninja.split(i) for i in phrase_list]\n",
        "    flat_splited_tokens = [j for sublist in splited_tokens for j in sublist]\n",
        "    res.append(flat_splited_tokens)    \n",
        "  else:\n",
        "\n",
        "    res.append(np.nan)"
      ],
      "metadata": {
        "id": "GAQHgu5IILSY"
      },
      "execution_count": 13,
      "outputs": []
    },
    {
      "cell_type": "code",
      "source": [
        "pdf['Comments'] = res"
      ],
      "metadata": {
        "id": "7tf0DgwVJQ7q"
      },
      "execution_count": 14,
      "outputs": []
    },
    {
      "cell_type": "markdown",
      "source": [
        "Here I added two 'last race' column. One depicts the location of last race of this horse. The other one is added by calculating the days between the current race and last race. "
      ],
      "metadata": {
        "id": "yodTnj_IU8a5"
      }
    },
    {
      "cell_type": "code",
      "source": [
        "# Subset and rename,\n",
        "historical_results = pdf[['Track','Date','Race','Pgm','last_race_track','day_since_last_race','Comments']].rename(\n",
        "    columns = {'Track':'track_id',\t'Date':'race_date',\t'Race':'race_number',\t'Pgm':'program_number'})\n",
        "historical_results.race_date = historical_results.race_date.astype('str')"
      ],
      "metadata": {
        "id": "UENoFeOk67kH"
      },
      "execution_count": 15,
      "outputs": []
    },
    {
      "cell_type": "code",
      "source": [
        "# Merge the dfs.\n",
        "start_race = start.merge(\n",
        "    race, how = 'left', on=['track_id','race_date','race_number']).merge(\n",
        "        historical_results, how = 'left', on=['track_id','race_date','race_number','program_number'])"
      ],
      "metadata": {
        "id": "OjYU7uRbDIr_"
      },
      "execution_count": 16,
      "outputs": []
    },
    {
      "cell_type": "code",
      "source": [
        "# Merge the weather data.\n",
        "dfmerged = pd.concat([aqu, bel, sar], axis=0, ignore_index=True)\n",
        "dfmerged = dfmerged.drop(dfmerged.columns[[0]],axis = 1)"
      ],
      "metadata": {
        "id": "_ec83_8g4B1J"
      },
      "execution_count": 17,
      "outputs": []
    },
    {
      "cell_type": "code",
      "source": [
        "final = pd.merge(start_race, dfmerged,  how='left', left_on=[\"track_id\",\"race_date\"], right_on = ['local','day']).drop(\n",
        "    ['local', 'day'], axis = 1)"
      ],
      "metadata": {
        "id": "Y4oXXNfd4U4l"
      },
      "execution_count": 18,
      "outputs": []
    },
    {
      "cell_type": "code",
      "source": [
        "# final.to_csv(path + \"/data/merged_data/joined_data_without_position.csv\", encoding='utf-8')"
      ],
      "metadata": {
        "id": "-lqCY6M-4QRp"
      },
      "execution_count": 19,
      "outputs": []
    },
    {
      "cell_type": "markdown",
      "source": [
        "The RNN model can only be trained on a subset of the tracking dataframe since it has the positions of all horses and races. So I think we can frame this part like \"we are able to build predictive model for positions in a race for any horses so that the stakeholders can be better informed during a race to make decisions\"."
      ],
      "metadata": {
        "id": "S2Q0BnaSSNXS"
      }
    },
    {
      "cell_type": "code",
      "source": [
        "complete.head()"
      ],
      "metadata": {
        "colab": {
          "base_uri": "https://localhost:8080/",
          "height": 444
        },
        "id": "vj-qrtDb8Cey",
        "outputId": "acc60db0-192e-425a-bc8d-f44c904812f4"
      },
      "execution_count": 20,
      "outputs": [
        {
          "output_type": "execute_result",
          "data": {
            "text/plain": [
              "  track_id   race_date  race_number program_number  trakus_index   latitude  \\\n",
              "0      AQU  2019-01-01            9            6              72  40.672902   \n",
              "1      AQU  2019-01-01            9            6              73  40.672946   \n",
              "2      AQU  2019-01-01            9            6              74  40.672990   \n",
              "3      AQU  2019-01-01            9            6              63  40.672510   \n",
              "4      AQU  2019-01-01            9            6              64  40.672553   \n",
              "\n",
              "   longitude  distance_id course_type track_condition  run_up_distance  \\\n",
              "0 -73.827607          600           D             GD                48   \n",
              "1 -73.827587          600           D             GD                48   \n",
              "2 -73.827568          600           D             GD                48   \n",
              "3 -73.827781          600           D             GD                48   \n",
              "4 -73.827762          600           D             GD                48   \n",
              "\n",
              "  race_type  unknown  post_time  weight_carried                   jockey  \\\n",
              "0       CLM  25000.0        420             120  Andre Shivnarine Worrie   \n",
              "1       CLM  25000.0        420             120  Andre Shivnarine Worrie   \n",
              "2       CLM  25000.0        420             120  Andre Shivnarine Worrie   \n",
              "3       CLM  25000.0        420             120  Andre Shivnarine Worrie   \n",
              "4       CLM  25000.0        420             120  Andre Shivnarine Worrie   \n",
              "\n",
              "   odds  position_at_finish  \n",
              "0  2090                   8  \n",
              "1  2090                   8  \n",
              "2  2090                   8  \n",
              "3  2090                   8  \n",
              "4  2090                   8  "
            ],
            "text/html": [
              "\n",
              "  <div id=\"df-a6b33e34-003d-46ea-a226-3fa1e548841e\">\n",
              "    <div class=\"colab-df-container\">\n",
              "      <div>\n",
              "<style scoped>\n",
              "    .dataframe tbody tr th:only-of-type {\n",
              "        vertical-align: middle;\n",
              "    }\n",
              "\n",
              "    .dataframe tbody tr th {\n",
              "        vertical-align: top;\n",
              "    }\n",
              "\n",
              "    .dataframe thead th {\n",
              "        text-align: right;\n",
              "    }\n",
              "</style>\n",
              "<table border=\"1\" class=\"dataframe\">\n",
              "  <thead>\n",
              "    <tr style=\"text-align: right;\">\n",
              "      <th></th>\n",
              "      <th>track_id</th>\n",
              "      <th>race_date</th>\n",
              "      <th>race_number</th>\n",
              "      <th>program_number</th>\n",
              "      <th>trakus_index</th>\n",
              "      <th>latitude</th>\n",
              "      <th>longitude</th>\n",
              "      <th>distance_id</th>\n",
              "      <th>course_type</th>\n",
              "      <th>track_condition</th>\n",
              "      <th>run_up_distance</th>\n",
              "      <th>race_type</th>\n",
              "      <th>unknown</th>\n",
              "      <th>post_time</th>\n",
              "      <th>weight_carried</th>\n",
              "      <th>jockey</th>\n",
              "      <th>odds</th>\n",
              "      <th>position_at_finish</th>\n",
              "    </tr>\n",
              "  </thead>\n",
              "  <tbody>\n",
              "    <tr>\n",
              "      <th>0</th>\n",
              "      <td>AQU</td>\n",
              "      <td>2019-01-01</td>\n",
              "      <td>9</td>\n",
              "      <td>6</td>\n",
              "      <td>72</td>\n",
              "      <td>40.672902</td>\n",
              "      <td>-73.827607</td>\n",
              "      <td>600</td>\n",
              "      <td>D</td>\n",
              "      <td>GD</td>\n",
              "      <td>48</td>\n",
              "      <td>CLM</td>\n",
              "      <td>25000.0</td>\n",
              "      <td>420</td>\n",
              "      <td>120</td>\n",
              "      <td>Andre Shivnarine Worrie</td>\n",
              "      <td>2090</td>\n",
              "      <td>8</td>\n",
              "    </tr>\n",
              "    <tr>\n",
              "      <th>1</th>\n",
              "      <td>AQU</td>\n",
              "      <td>2019-01-01</td>\n",
              "      <td>9</td>\n",
              "      <td>6</td>\n",
              "      <td>73</td>\n",
              "      <td>40.672946</td>\n",
              "      <td>-73.827587</td>\n",
              "      <td>600</td>\n",
              "      <td>D</td>\n",
              "      <td>GD</td>\n",
              "      <td>48</td>\n",
              "      <td>CLM</td>\n",
              "      <td>25000.0</td>\n",
              "      <td>420</td>\n",
              "      <td>120</td>\n",
              "      <td>Andre Shivnarine Worrie</td>\n",
              "      <td>2090</td>\n",
              "      <td>8</td>\n",
              "    </tr>\n",
              "    <tr>\n",
              "      <th>2</th>\n",
              "      <td>AQU</td>\n",
              "      <td>2019-01-01</td>\n",
              "      <td>9</td>\n",
              "      <td>6</td>\n",
              "      <td>74</td>\n",
              "      <td>40.672990</td>\n",
              "      <td>-73.827568</td>\n",
              "      <td>600</td>\n",
              "      <td>D</td>\n",
              "      <td>GD</td>\n",
              "      <td>48</td>\n",
              "      <td>CLM</td>\n",
              "      <td>25000.0</td>\n",
              "      <td>420</td>\n",
              "      <td>120</td>\n",
              "      <td>Andre Shivnarine Worrie</td>\n",
              "      <td>2090</td>\n",
              "      <td>8</td>\n",
              "    </tr>\n",
              "    <tr>\n",
              "      <th>3</th>\n",
              "      <td>AQU</td>\n",
              "      <td>2019-01-01</td>\n",
              "      <td>9</td>\n",
              "      <td>6</td>\n",
              "      <td>63</td>\n",
              "      <td>40.672510</td>\n",
              "      <td>-73.827781</td>\n",
              "      <td>600</td>\n",
              "      <td>D</td>\n",
              "      <td>GD</td>\n",
              "      <td>48</td>\n",
              "      <td>CLM</td>\n",
              "      <td>25000.0</td>\n",
              "      <td>420</td>\n",
              "      <td>120</td>\n",
              "      <td>Andre Shivnarine Worrie</td>\n",
              "      <td>2090</td>\n",
              "      <td>8</td>\n",
              "    </tr>\n",
              "    <tr>\n",
              "      <th>4</th>\n",
              "      <td>AQU</td>\n",
              "      <td>2019-01-01</td>\n",
              "      <td>9</td>\n",
              "      <td>6</td>\n",
              "      <td>64</td>\n",
              "      <td>40.672553</td>\n",
              "      <td>-73.827762</td>\n",
              "      <td>600</td>\n",
              "      <td>D</td>\n",
              "      <td>GD</td>\n",
              "      <td>48</td>\n",
              "      <td>CLM</td>\n",
              "      <td>25000.0</td>\n",
              "      <td>420</td>\n",
              "      <td>120</td>\n",
              "      <td>Andre Shivnarine Worrie</td>\n",
              "      <td>2090</td>\n",
              "      <td>8</td>\n",
              "    </tr>\n",
              "  </tbody>\n",
              "</table>\n",
              "</div>\n",
              "      <button class=\"colab-df-convert\" onclick=\"convertToInteractive('df-a6b33e34-003d-46ea-a226-3fa1e548841e')\"\n",
              "              title=\"Convert this dataframe to an interactive table.\"\n",
              "              style=\"display:none;\">\n",
              "        \n",
              "  <svg xmlns=\"http://www.w3.org/2000/svg\" height=\"24px\"viewBox=\"0 0 24 24\"\n",
              "       width=\"24px\">\n",
              "    <path d=\"M0 0h24v24H0V0z\" fill=\"none\"/>\n",
              "    <path d=\"M18.56 5.44l.94 2.06.94-2.06 2.06-.94-2.06-.94-.94-2.06-.94 2.06-2.06.94zm-11 1L8.5 8.5l.94-2.06 2.06-.94-2.06-.94L8.5 2.5l-.94 2.06-2.06.94zm10 10l.94 2.06.94-2.06 2.06-.94-2.06-.94-.94-2.06-.94 2.06-2.06.94z\"/><path d=\"M17.41 7.96l-1.37-1.37c-.4-.4-.92-.59-1.43-.59-.52 0-1.04.2-1.43.59L10.3 9.45l-7.72 7.72c-.78.78-.78 2.05 0 2.83L4 21.41c.39.39.9.59 1.41.59.51 0 1.02-.2 1.41-.59l7.78-7.78 2.81-2.81c.8-.78.8-2.07 0-2.86zM5.41 20L4 18.59l7.72-7.72 1.47 1.35L5.41 20z\"/>\n",
              "  </svg>\n",
              "      </button>\n",
              "      \n",
              "  <style>\n",
              "    .colab-df-container {\n",
              "      display:flex;\n",
              "      flex-wrap:wrap;\n",
              "      gap: 12px;\n",
              "    }\n",
              "\n",
              "    .colab-df-convert {\n",
              "      background-color: #E8F0FE;\n",
              "      border: none;\n",
              "      border-radius: 50%;\n",
              "      cursor: pointer;\n",
              "      display: none;\n",
              "      fill: #1967D2;\n",
              "      height: 32px;\n",
              "      padding: 0 0 0 0;\n",
              "      width: 32px;\n",
              "    }\n",
              "\n",
              "    .colab-df-convert:hover {\n",
              "      background-color: #E2EBFA;\n",
              "      box-shadow: 0px 1px 2px rgba(60, 64, 67, 0.3), 0px 1px 3px 1px rgba(60, 64, 67, 0.15);\n",
              "      fill: #174EA6;\n",
              "    }\n",
              "\n",
              "    [theme=dark] .colab-df-convert {\n",
              "      background-color: #3B4455;\n",
              "      fill: #D2E3FC;\n",
              "    }\n",
              "\n",
              "    [theme=dark] .colab-df-convert:hover {\n",
              "      background-color: #434B5C;\n",
              "      box-shadow: 0px 1px 3px 1px rgba(0, 0, 0, 0.15);\n",
              "      filter: drop-shadow(0px 1px 2px rgba(0, 0, 0, 0.3));\n",
              "      fill: #FFFFFF;\n",
              "    }\n",
              "  </style>\n",
              "\n",
              "      <script>\n",
              "        const buttonEl =\n",
              "          document.querySelector('#df-a6b33e34-003d-46ea-a226-3fa1e548841e button.colab-df-convert');\n",
              "        buttonEl.style.display =\n",
              "          google.colab.kernel.accessAllowed ? 'block' : 'none';\n",
              "\n",
              "        async function convertToInteractive(key) {\n",
              "          const element = document.querySelector('#df-a6b33e34-003d-46ea-a226-3fa1e548841e');\n",
              "          const dataTable =\n",
              "            await google.colab.kernel.invokeFunction('convertToInteractive',\n",
              "                                                     [key], {});\n",
              "          if (!dataTable) return;\n",
              "\n",
              "          const docLinkHtml = 'Like what you see? Visit the ' +\n",
              "            '<a target=\"_blank\" href=https://colab.research.google.com/notebooks/data_table.ipynb>data table notebook</a>'\n",
              "            + ' to learn more about interactive tables.';\n",
              "          element.innerHTML = '';\n",
              "          dataTable['output_type'] = 'display_data';\n",
              "          await google.colab.output.renderOutput(dataTable, element);\n",
              "          const docLink = document.createElement('div');\n",
              "          docLink.innerHTML = docLinkHtml;\n",
              "          element.appendChild(docLink);\n",
              "        }\n",
              "      </script>\n",
              "    </div>\n",
              "  </div>\n",
              "  "
            ]
          },
          "metadata": {},
          "execution_count": 20
        }
      ]
    }
  ]
}