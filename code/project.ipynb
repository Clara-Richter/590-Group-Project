{
 "cells": [
  {
   "cell_type": "markdown",
   "metadata": {},
   "source": [
    "### 590-Group-Project"
   ]
  },
  {
   "cell_type": "markdown",
   "metadata": {},
   "source": [
    "#### Deliverables + Timeline  \n",
    "- Project Presentation → December 6th  \n",
    "- Project Code and Write-Up → December 9th  \n",
    "\n",
    "#### Meeting 11/18  \n",
    "- Shift to RNN (Text data difficult to scrape and an unnatural fit)\n",
    "    - Real time position data of given horse\n",
    "    - Write a generator function to accomplish this \n",
    "- Divvy up by model/question\n",
    "\n",
    "-  To Dos:\n",
    "    - Set up Git Repo\n",
    "    - Load Kaggle adn weather data in (nyra_2019_complete.csv)\n",
    "    - Clean and join\n",
    "    - EDA on data\n",
    "        - EDA Viz for Presentation\n",
    "    - Transform to be ready to train models on\n",
    "    - Models:\n",
    "        - ML models\n",
    "            - Random Forest\n",
    "            - Ridge\n",
    "            - Lasso\n",
    "        - Neural Networks\n",
    "            - Feed-forward\n",
    "            - RNN\n",
    "            - LSTMs\n",
    "\n",
    "\n"
   ]
  }
 ],
 "metadata": {
  "kernelspec": {
   "display_name": "Python 3.10.6 ('ANLY590')",
   "language": "python",
   "name": "python3"
  },
  "language_info": {
   "name": "python",
   "version": "3.10.6"
  },
  "orig_nbformat": 4,
  "vscode": {
   "interpreter": {
    "hash": "5bd4e6ee37c028b2c4de11ef9fef63907dcb7f77cf0d14329f260249e1f9d052"
   }
  }
 },
 "nbformat": 4,
 "nbformat_minor": 2
}
